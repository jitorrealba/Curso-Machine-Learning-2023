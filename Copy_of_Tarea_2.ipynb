{
  "nbformat": 4,
  "nbformat_minor": 0,
  "metadata": {
    "colab": {
      "provenance": [],
      "include_colab_link": true
    },
    "kernelspec": {
      "name": "python3",
      "display_name": "Python 3"
    },
    "language_info": {
      "name": "python"
    }
  },
  "cells": [
    {
      "cell_type": "markdown",
      "metadata": {
        "id": "view-in-github",
        "colab_type": "text"
      },
      "source": [
        "<a href=\"https://colab.research.google.com/github/jitorrealba/Curso-Machine-Learning-2023/blob/main/Copy_of_Tarea_2.ipynb\" target=\"_parent\"><img src=\"https://colab.research.google.com/assets/colab-badge.svg\" alt=\"Open In Colab\"/></a>"
      ]
    },
    {
      "cell_type": "markdown",
      "source": [
        "# Instrucciones:\n",
        "- Descargue el notebook y cárguelo en su Drive.\n",
        "- Todas las preguntas deben ser contestadas en su notebook.\n",
        "- Para que una pregunta esté correcta el código debe correr.\n",
        "- Realice comentarios breves en su código explicando su metodología o sus resultados.\n",
        "- Una vez culminada su tarea, suba su notebook al buzón de tareas de Canvas."
      ],
      "metadata": {
        "id": "8qOWoCOwwBY-"
      }
    },
    {
      "cell_type": "markdown",
      "source": [
        "#1. Decision Tree (60%)"
      ],
      "metadata": {
        "id": "jaq2e8c8vcYw"
      }
    },
    {
      "cell_type": "markdown",
      "source": [
        "El dataset para esta pregunta contiene características de masas mamarias que se calculan a partir de una imagen digitalizada de una aspiración con aguja fina (FNA). Describen las características de los núcleos celulares presentes en la imagen. El objetivo es predecir, de acuerdo a las características, si esa masa mamaria es maligna o benigna. El dataset está disponible en el siguiente [Github](https://raw.githubusercontent.com/benvasquez10/ionesphere/main/breast_cancer.csv).<br>\n",
        "\n",
        "Descripción del dataset:\n",
        "\n",
        "Variables:\n",
        "- ID number\n",
        "- Diagnosis (M = malignant, B = benign) \n",
        "- radius (mean of distances from center to points on the perimeter)\n",
        "- texture (standard deviation of gray-scale values)\n",
        "- perimeter\n",
        "- area\n",
        "- smoothness (local variation in radius lengths)\n",
        "- compactness (perimeter^2 / area - 1.0)\n",
        "- concavity (severity of concave portions of the contour)\n",
        "- concave points (number of concave portions of the contour)\n",
        "- symmetry\n",
        "- fractal dimension (\"coastline approximation\" - 1)"
      ],
      "metadata": {
        "id": "cKQoWCh7voMY"
      }
    },
    {
      "cell_type": "markdown",
      "source": [
        "0) Importe las librerías que usará en su tarea.\n",
        "\n",
        "Esta pregunta no tiene puntaje, pero sí puede restar puntaje si importa librerías que no usa en su tarea."
      ],
      "metadata": {
        "id": "mOy5mXKWemrS"
      }
    },
    {
      "cell_type": "code",
      "source": [],
      "metadata": {
        "id": "2Mp3_soge35K"
      },
      "execution_count": null,
      "outputs": []
    },
    {
      "cell_type": "markdown",
      "source": [
        "1) Importe el dataset como un DataFrame (df) directamente desde Github (es decir, no descargue el archivo manualmente). A lo largo de la tarea este df se denominará como \"df\"."
      ],
      "metadata": {
        "id": "-6O0wui_GPKs"
      }
    },
    {
      "cell_type": "code",
      "source": [],
      "metadata": {
        "id": "5khrY9a1GO51"
      },
      "execution_count": null,
      "outputs": []
    },
    {
      "cell_type": "markdown",
      "source": [
        "2) Como se ha visto en clases y en ayudantía, al utilizar un dataset es necesario primero realizar un análisis exploratorio de datos o EDA (por sus siglas en inglés).\n",
        "\n",
        "En esta pregunta se le pide que realice un EDA del dataset importado. Sea explícito en detallar cada paso que realiza. Como mínimo es necesario que grafique y analice la distribución de las variables, impute los missing values y trate los valores atípicos u outliers.\n",
        "\n",
        "Hint: En la tarea 1 realizaron un EDA."
      ],
      "metadata": {
        "id": "Kq_LZm-zOkBc"
      }
    },
    {
      "cell_type": "code",
      "source": [],
      "metadata": {
        "id": "lEb-N3nkOobU"
      },
      "execution_count": null,
      "outputs": []
    },
    {
      "cell_type": "markdown",
      "source": [
        "3) La variable objetivo \"Diagnosis\" toma los valores \"M\" o \"B\". Para entrenar el modelo es necesario que realice un \"one-hot-enconding\" de esta variable. En específico, la variable debe tomar el valor 1 si el tumor es maligno.\n",
        "\n",
        "Explique su procedimiento."
      ],
      "metadata": {
        "id": "5eQ22kH7RYWO"
      }
    },
    {
      "cell_type": "code",
      "source": [],
      "metadata": {
        "id": "RH9luK3CRXoZ"
      },
      "execution_count": null,
      "outputs": []
    },
    {
      "cell_type": "markdown",
      "source": [
        "4) ¿Cuáles atributos usted considera relevantes a considerar para entrenar el modelo? Explique su respuesta."
      ],
      "metadata": {
        "id": "d-e3A4IuRVOe"
      }
    },
    {
      "cell_type": "code",
      "source": [],
      "metadata": {
        "id": "SxOdsHixRUPN"
      },
      "execution_count": null,
      "outputs": []
    },
    {
      "cell_type": "markdown",
      "source": [
        "5) Separe los datos en un dataset de entrenamiento y de testeo. ¿Por qué es importante la decisión del tamaño del dataset de testeo? Explique. Use la semilla (random_state) 25."
      ],
      "metadata": {
        "id": "LCG3BBYE17H3"
      }
    },
    {
      "cell_type": "code",
      "source": [],
      "metadata": {
        "id": "-bVZN-6nkRqC"
      },
      "execution_count": null,
      "outputs": []
    },
    {
      "cell_type": "markdown",
      "source": [
        "6) ¿Cuál es la diferencia entre un modelo de clasificación y un modelo de regresión? Explique."
      ],
      "metadata": {
        "id": "HqsS4Mx_msZX"
      }
    },
    {
      "cell_type": "code",
      "source": [],
      "metadata": {
        "id": "mlRCKYienC59"
      },
      "execution_count": null,
      "outputs": []
    },
    {
      "cell_type": "markdown",
      "source": [
        "7) Utilizando cross validation con 5 carpetas, entrene un modelo de árbol de decisión (decision tree) de clasificación sin modificar los parámetros predeterminados de la función. Obtenga el promedio del resultado."
      ],
      "metadata": {
        "id": "s88rtLTbkREq"
      }
    },
    {
      "cell_type": "code",
      "source": [],
      "metadata": {
        "id": "RnqLphQdl_NK"
      },
      "execution_count": null,
      "outputs": []
    },
    {
      "cell_type": "markdown",
      "source": [
        "8) Entrene un árbol de decisión sin modificar parámetros y calcule las siguientes métricas de desempeño del modelo: accuracy, matriz de confusión, recall, precision y f1. Ejemplificando con estos resultados, explique si el modelo tuvo un buen resulatdo o no y por qué es importante utilizar diferentes métricas de desempeño."
      ],
      "metadata": {
        "id": "IRgPz_ODl-HN"
      }
    },
    {
      "cell_type": "code",
      "source": [],
      "metadata": {
        "id": "KJBgStiBnILM"
      },
      "execution_count": null,
      "outputs": []
    },
    {
      "cell_type": "markdown",
      "source": [
        "9) Obtenga accuracy y f1 para los set de entrenamiento y de prueba. ¿Existe evidencia de overfitting o underfitting? Explique."
      ],
      "metadata": {
        "id": "GIrXis0ToHAj"
      }
    },
    {
      "cell_type": "code",
      "source": [],
      "metadata": {
        "id": "4pHot4TboHfT"
      },
      "execution_count": null,
      "outputs": []
    },
    {
      "cell_type": "markdown",
      "source": [
        "10) Entrene un modelo de árbol de decisión modificando al menos dos párametros. Justifique su elección.\n",
        "\n",
        "Considerando el modelo entrenado en 7), ¿Cuál modelo tuvo un mejor desempeño? Explique.\n",
        "\n"
      ],
      "metadata": {
        "id": "tThRIJnuYd4c"
      }
    },
    {
      "cell_type": "code",
      "source": [],
      "metadata": {
        "id": "uoXnhZDfYdVt"
      },
      "execution_count": null,
      "outputs": []
    },
    {
      "cell_type": "markdown",
      "source": [
        "# 2. Clustering + PCA (40%)"
      ],
      "metadata": {
        "id": "IDuWMEBJdpb8"
      }
    },
    {
      "cell_type": "markdown",
      "source": [
        "El dataset para esta pregunta contiene características de casas en California obtenidas a través del censo de 1990 en EE.UU. El dataset está disponible en el siguiente [Github](https://raw.githubusercontent.com/fco-olivares/AML_1.2023/main/california_housing_prices.csv).<br>\n",
        "\n",
        "Descripción del dataset:\n",
        "\n",
        "Variables:\n",
        "- longitude\n",
        "- latitude\n",
        "- housing_median_age\n",
        "- total_rooms\n",
        "- total_bedrooms\n",
        "- population\n",
        "- households\n",
        "- median_income\n",
        "- median_house_value\n",
        "- ocean_proximity"
      ],
      "metadata": {
        "id": "obNd2DoArJn8"
      }
    },
    {
      "cell_type": "markdown",
      "source": [
        "0) Importe las librerías que usará en su tarea.\n",
        "\n",
        "Esta pregunta no tiene puntaje, pero sí puede restar puntaje si importa librerías que no usa en su tarea."
      ],
      "metadata": {
        "id": "OfP_PGrxsjUh"
      }
    },
    {
      "cell_type": "code",
      "source": [],
      "metadata": {
        "id": "hfXDjFsBsjUi"
      },
      "execution_count": null,
      "outputs": []
    },
    {
      "cell_type": "markdown",
      "source": [
        "1) Importe el dataset como un DataFrame (df) directamente desde Github (es decir, no descargue el archivo manualmente). A lo largo de la tarea este df se denominará como \"df\"."
      ],
      "metadata": {
        "id": "IfzQvkVhsjUi"
      }
    },
    {
      "cell_type": "code",
      "source": [],
      "metadata": {
        "id": "Ju1pJLSDsjUj"
      },
      "execution_count": null,
      "outputs": []
    },
    {
      "cell_type": "markdown",
      "source": [
        "2) Analice descriptivamente las variables del dataset y grafique su distribución.\n",
        "\n",
        "¿Es necesario realizar un \"one-hot-enconding\" de alguna variable? Explique su respuesta."
      ],
      "metadata": {
        "id": "ZMu9ctySsjUj"
      }
    },
    {
      "cell_type": "code",
      "source": [],
      "metadata": {
        "id": "fC9vdUwCsjUk"
      },
      "execution_count": null,
      "outputs": []
    },
    {
      "cell_type": "markdown",
      "source": [
        "3) ¿Cuál es la diferencia entre un modelo de machine learning supervisado y no supervisado? Explique."
      ],
      "metadata": {
        "id": "jMVhx5iytZP4"
      }
    },
    {
      "cell_type": "code",
      "source": [],
      "metadata": {
        "id": "TI4t2qDyt8gf"
      },
      "execution_count": null,
      "outputs": []
    },
    {
      "cell_type": "markdown",
      "source": [
        "4) Realice un modelo k-means con las variables \"median_house_value\" y \"total_rooms\". Grafique con un scatter plot las variables antes mencionadas y, a partir de la clasificación realizada con el modelo, coloree con diferentes colores las observaciones."
      ],
      "metadata": {
        "id": "M56mTyqttpZz"
      }
    },
    {
      "cell_type": "code",
      "source": [],
      "metadata": {
        "id": "JFx8FM1uvYMV"
      },
      "execution_count": null,
      "outputs": []
    },
    {
      "cell_type": "markdown",
      "source": [
        "5) Considerando todas las variables, utilice el método de Elbow para determinar el número de clusters óptimo. Explique y apoye su respuesta con el gráfico de la curva de Elbow."
      ],
      "metadata": {
        "id": "Pz4wIZQhvYr3"
      }
    },
    {
      "cell_type": "code",
      "source": [],
      "metadata": {
        "id": "CPw93r_7v5cx"
      },
      "execution_count": null,
      "outputs": []
    },
    {
      "cell_type": "markdown",
      "source": [
        "6) Utilice un análisis de componentes principales (PCA) para reducir la dimensionalidad de los datos y explique su elección del número de componentes. ¿Cuál es la varianza explicada por el PCA?"
      ],
      "metadata": {
        "id": "oNdtHN-Mv6AH"
      }
    },
    {
      "cell_type": "code",
      "source": [],
      "metadata": {
        "id": "k9D_3t6ew1kb"
      },
      "execution_count": null,
      "outputs": []
    },
    {
      "cell_type": "markdown",
      "source": [
        "7) Realice un modelo de k-means con el número de clusters y los componentes principales determinados en las preguntas 5) y 6), respectivamente. Grafique los componentes con un scatter plot y coloree según la clasificación determinada por el modelo."
      ],
      "metadata": {
        "id": "kcURiW18w264"
      }
    },
    {
      "cell_type": "code",
      "source": [],
      "metadata": {
        "id": "pN4sQtrfxq0a"
      },
      "execution_count": null,
      "outputs": []
    },
    {
      "cell_type": "markdown",
      "source": [
        "8) ¿Es necesario realizar alguna métrica de desempeño del modelo? Explique su respuesta."
      ],
      "metadata": {
        "id": "GhrDgJW7yMD4"
      }
    },
    {
      "cell_type": "code",
      "source": [],
      "metadata": {
        "id": "_UKuQbUpyLsD"
      },
      "execution_count": null,
      "outputs": []
    },
    {
      "cell_type": "markdown",
      "source": [
        "9) ¿Para qué se podría utilizar la clasificación obtenida con el modelo k-means en la vida real? Explique."
      ],
      "metadata": {
        "id": "0d2bE7xJx_Ya"
      }
    },
    {
      "cell_type": "code",
      "source": [],
      "metadata": {
        "id": "5TZ3wR25ybus"
      },
      "execution_count": null,
      "outputs": []
    }
  ]
}